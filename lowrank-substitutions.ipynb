{
 "cells": [
  {
   "cell_type": "markdown",
   "id": "7fd85124-43a9-40c8-8c9f-ff2f11ba9e36",
   "metadata": {},
   "source": [
    "# Experimenting with low-rank substitutions for Q / K / V and MLP matrices\n",
    "See also https://chrissarmstrong.github.io/seeking-manifold/Experiments/Low-Rank-Substitution"
   ]
  },
  {
   "cell_type": "code",
   "execution_count": 1,
   "id": "ed3cfa66-85b9-4b80-bdb9-ff7682659c7f",
   "metadata": {},
   "outputs": [
    {
     "name": "stderr",
     "output_type": "stream",
     "text": [
      "/bigdrive/anaconda3/envs/xf/lib/python3.9/site-packages/tqdm/auto.py:21: TqdmWarning: IProgress not found. Please update jupyter and ipywidgets. See https://ipywidgets.readthedocs.io/en/stable/user_install.html\n",
      "  from .autonotebook import tqdm as notebook_tqdm\n"
     ]
    }
   ],
   "source": [
    "from transformers import AutoTokenizer, set_seed\n",
    "import torch\n",
    "import torch.nn as nn\n",
    "from datasets import load_dataset\n",
    "from transformers import Trainer, TrainingArguments\n",
    "from transformers import DataCollatorForLanguageModeling\n"
   ]
  },
  {
   "cell_type": "markdown",
   "id": "b990686c",
   "metadata": {},
   "source": [
    "## Some setup"
   ]
  },
  {
   "cell_type": "code",
   "execution_count": null,
   "id": "29c8307b",
   "metadata": {},
   "outputs": [],
   "source": [
    "set_seed(4)\n",
    "out_dir = \"./lowrank-sub-output\"\n",
    "keep_dir = \"./lowrank-sub-output-keep\""
   ]
  },
  {
   "cell_type": "markdown",
   "id": "72c7fc91-a447-4b81-a15d-79ee109929f4",
   "metadata": {},
   "source": [
    "## Custom config\n",
    "Pull in the customized version of GPTNeoConfig"
   ]
  },
  {
   "cell_type": "code",
   "execution_count": 2,
   "id": "bce0b408-8115-48d8-beff-4956ff12c0a2",
   "metadata": {},
   "outputs": [],
   "source": [
    "from lowrank_sub_model.configuration_lowrank_sub import LowrankSubGPTNeoConfig"
   ]
  },
  {
   "cell_type": "code",
   "execution_count": 3,
   "id": "2d32b98d-5b01-4941-9eb7-29100553f7ee",
   "metadata": {},
   "outputs": [],
   "source": [
    "lrs_config = LowrankSubGPTNeoConfig(\n",
    "    max_position_embeddings=2048,\n",
    "    hidden_size=384,\n",
    "    num_layers=4, # Note: num_layers and len(attention_types) and len(ranks) all need to match!\n",
    "#    num_layers=8,\n",
    "    attention_types=[[[\"global\", \"local\"], 2]],\n",
    "#    attention_types=[[[\"global\", \"global\"], 2]],\n",
    "#    sa_ranks = [100, 50, 20, 5], # Comment out for normal (full) behavior\n",
    "#    mlp_ranks = [150, 80, 30, 10], # Comment out for normal (full) behavior\n",
    ")"
   ]
  },
  {
   "cell_type": "markdown",
   "id": "e25dbd2d-797c-4ac0-9aea-72a62702aa0f",
   "metadata": {},
   "source": [
    "## Instantiate model with mods\n",
    "See `lowrank_sub_model/modeling_lowrank_sub.py` for the mods"
   ]
  },
  {
   "cell_type": "code",
   "execution_count": 5,
   "id": "1811f8e8-101b-44c6-8fd7-4ec95dd27757",
   "metadata": {},
   "outputs": [],
   "source": [
    "from lowrank_sub_model.modeling_lowrank_sub import LowrankSubGPTNeoForCausalLM"
   ]
  },
  {
   "cell_type": "code",
   "execution_count": 6,
   "id": "67b08083-8063-41b1-9713-014672e3f371",
   "metadata": {},
   "outputs": [
    {
     "name": "stdout",
     "output_type": "stream",
     "text": [
      "Initializing custom model LowrankSubGPTNeoModel\n",
      "in LowrankSubGPTNeoForCausalLM init, self.lm_head.in_features = 384, self.lm_head.out_features = 50257\n",
      "Initializing custom model with head LowrankSubGPTNeoForCausalLM\n"
     ]
    }
   ],
   "source": [
    "model = LowrankSubGPTNeoForCausalLM(lrs_config)\n",
    "tokenizer = AutoTokenizer.from_pretrained(\"EleutherAI/gpt-neo-125M\")\n",
    "tokenizer.pad_token = tokenizer.eos_token # This tokenizer doesn't have a pad_token, so setting one. Needed for training"
   ]
  },
  {
   "cell_type": "code",
   "execution_count": 7,
   "id": "d74ba687-a2cf-4de5-aea3-8be1e38574cd",
   "metadata": {},
   "outputs": [
    {
     "name": "stdout",
     "output_type": "stream",
     "text": [
      "trainable params: 34,266,240 || all params: 34,266,240 || trainable%: 100.00%\n"
     ]
    }
   ],
   "source": [
    "def print_trainable_parameters(model):\n",
    "    \"\"\"\n",
    "    Prints the number of trainable parameters in the model.\n",
    "    \"\"\"\n",
    "    trainable_params = 0\n",
    "    all_param = 0\n",
    "    for _, param in model.named_parameters():\n",
    "        all_param += param.numel()\n",
    "        if param.requires_grad:\n",
    "            trainable_params += param.numel()\n",
    "    print(\n",
    "        f\"trainable params: {trainable_params:,d} || all params: {all_param:,d} || trainable%: {trainable_params / all_param:.2%}\"\n",
    "    )\n",
    "\n",
    "print_trainable_parameters(model)"
   ]
  },
  {
   "cell_type": "code",
   "execution_count": 9,
   "id": "b02a91b8-20f8-41fd-80d9-ee0db7ba0452",
   "metadata": {},
   "outputs": [
    {
     "name": "stdout",
     "output_type": "stream",
     "text": [
      "device = device(type='cuda')\n"
     ]
    }
   ],
   "source": [
    "# Check if a GPU is available\n",
    "if torch.cuda.is_available():\n",
    "    device = torch.device(\"cuda\")\n",
    "else:\n",
    "    device = torch.device(\"cpu\")\n",
    "\n",
    "# Move the model to the GPU\n",
    "model = model.to(device)\n",
    "\n",
    "print(f\"{device = }\")"
   ]
  },
  {
   "cell_type": "markdown",
   "id": "e1ca80c4-7f2e-4f30-bcb3-9c601235f979",
   "metadata": {},
   "source": [
    "## Reinitialize the model if necessary"
   ]
  },
  {
   "cell_type": "code",
   "execution_count": null,
   "id": "881d924a-fdfc-498b-a3ad-de24c86322eb",
   "metadata": {},
   "outputs": [],
   "source": [
    "# This is only used when initially building the model\n",
    "\n",
    "# def reinitialize_weights(model):\n",
    "#     for _, module in model.named_modules(): \n",
    "#         if isinstance(module,(torch.nn.Linear, torch.nn.Embedding)):\n",
    "#             module.weight.data.normal_(mean=0.0, std=model.config.initializer_range)\n",
    "#         elif isinstance(module, torch.nn.LayerNorm):\n",
    "#             module.bias.data.zero_()\n",
    "#             module.weight.data.fill_(1.0)\n",
    "#         if isinstance(module, torch.nn.Linear) and module.bias is not None:\n",
    "#             module.bias.data.zero_()\n",
    "#     return model\n",
    "\n",
    "# reinitialize_weights(model)"
   ]
  },
  {
   "cell_type": "code",
   "execution_count": null,
   "id": "ad6a6102-7451-48bf-8136-884aecae6771",
   "metadata": {},
   "outputs": [],
   "source": [
    "# If weights are newly initialized this should give garbage after the prompt\n",
    "\n",
    "# prompt = \"Once upon a time there was\"\n",
    "# input_ids = tokenizer.encode(prompt, return_tensors=\"pt\").to(device)\n",
    "# output = model.generate(input_ids, max_length = 1000, num_beams=1, temperature=0.9) # Temp not affecting generation. Same every time\n",
    "# output_text = tokenizer.decode(output[0], skip_special_tokens=True)\n",
    "# print(output_text)"
   ]
  },
  {
   "cell_type": "markdown",
   "id": "e9e055ac-704c-4177-bfed-5bcd2fcc42c6",
   "metadata": {},
   "source": [
    "## Training\n",
    "Note that our test set is only 1% of the total, but we're evaluating it about 25 times per epoch, so we're spending 1/4 of our training time doing eval! Doing eval half as often would be an easy and reasonable way to speed things up."
   ]
  },
  {
   "cell_type": "code",
   "execution_count": null,
   "id": "4a4b94bf-707b-46f5-938c-e2207e0f0e49",
   "metadata": {},
   "outputs": [],
   "source": [
    "dataset = load_dataset(\"skeskinen/TinyStories-GPT4\", split=\"train[:250000]\") # Just the first 250k samples\n",
    "\n",
    "tokenized_dataset = dataset.map(lambda examples: tokenizer(examples[\"story\"], truncation=True, padding=True), batched=True)\n",
    "\n",
    "# Split the dataset into train and test sets\n",
    "train_test_split = tokenized_dataset.train_test_split(test_size=0.01, seed=4)\n",
    "\n",
    "# Access the train and test sets\n",
    "train_dataset = train_test_split[\"train\"]\n",
    "test_dataset = train_test_split[\"test\"]"
   ]
  },
  {
   "cell_type": "code",
   "execution_count": null,
   "id": "8abde981-2950-452e-89be-0f72a38cc525",
   "metadata": {},
   "outputs": [],
   "source": [
    "#tokenized_dataset = dataset.map(lambda examples: tokenizer(examples[\"story\"], truncation=True, padding=True), batched=True)\n",
    "\n",
    "# Name the project for WandB\n",
    "# (Note that I manually renamed this project from huggingface to tinystories_33M in WandB)\n",
    "%env WANDB_PROJECT=lowrank_sub\n",
    "\n",
    "training_args = TrainingArguments(\n",
    "    output_dir=out_dir,\n",
    "    num_train_epochs=1,\n",
    "    per_device_train_batch_size=4,\n",
    "    gradient_accumulation_steps=1,\n",
    "    evaluation_strategy=\"steps\",\n",
    "    logging_strategy=\"steps\",\n",
    "    save_steps=500,\n",
    "    eval_steps=1000,\n",
    "    logging_steps=500,\n",
    "    save_total_limit=1,\n",
    ")"
   ]
  },
  {
   "cell_type": "code",
   "execution_count": null,
   "id": "7a0d21c8-8b0f-496a-874a-612a3c42207a",
   "metadata": {},
   "outputs": [],
   "source": [
    "trainer = Trainer(\n",
    "    model=model,\n",
    "    args=training_args,\n",
    "    train_dataset=train_dataset,\n",
    "    eval_dataset=test_dataset,\n",
    "    data_collator = DataCollatorForLanguageModeling(tokenizer=tokenizer, mlm=False)\n",
    ")\n",
    "trainer.train()"
   ]
  },
  {
   "cell_type": "markdown",
   "id": "91c6c111-a8ad-4a34-b782-0ef31f98c1c5",
   "metadata": {},
   "source": [
    "## Analysis"
   ]
  },
  {
   "cell_type": "code",
   "execution_count": 11,
   "id": "00a33e10-13a9-4939-ad04-50440ac6ac42",
   "metadata": {},
   "outputs": [],
   "source": [
    "import pandas as pd\n",
    "import matplotlib.pyplot as plt"
   ]
  },
  {
   "cell_type": "code",
   "execution_count": 12,
   "id": "dc1621cb-cb82-47cf-96d0-7315c6caee9e",
   "metadata": {},
   "outputs": [],
   "source": [
    "# Read the CSV file that I'm using to store run data\n",
    "\n",
    "df = pd.read_csv(keep_dir + '/' + 'ML Runs _ Results - Lowrank Sub Runs.csv')"
   ]
  },
  {
   "cell_type": "code",
   "execution_count": 13,
   "id": "e46c702a-a196-4ce9-ada9-10b609e91dc5",
   "metadata": {},
   "outputs": [
    {
     "data": {
      "text/html": [
       "<div>\n",
       "<style scoped>\n",
       "    .dataframe tbody tr th:only-of-type {\n",
       "        vertical-align: middle;\n",
       "    }\n",
       "\n",
       "    .dataframe tbody tr th {\n",
       "        vertical-align: top;\n",
       "    }\n",
       "\n",
       "    .dataframe thead th {\n",
       "        text-align: right;\n",
       "    }\n",
       "</style>\n",
       "<table border=\"1\" class=\"dataframe\">\n",
       "  <thead>\n",
       "    <tr style=\"text-align: right;\">\n",
       "      <th></th>\n",
       "      <th>W&amp;B Name</th>\n",
       "      <th>Seeds</th>\n",
       "      <th>Label</th>\n",
       "      <th>base model</th>\n",
       "      <th>Training</th>\n",
       "      <th>Init</th>\n",
       "      <th>Total DS</th>\n",
       "      <th>Test split</th>\n",
       "      <th>num layers</th>\n",
       "      <th>hidden size (embedding size)</th>\n",
       "      <th>...</th>\n",
       "      <th>Grad Accum Steps</th>\n",
       "      <th>Effective Batch Size</th>\n",
       "      <th>Training args</th>\n",
       "      <th>VRAM max (MB)</th>\n",
       "      <th>eval loss @ 6k</th>\n",
       "      <th>eval loss delta from baseline</th>\n",
       "      <th>It / sec</th>\n",
       "      <th>Training time (min)</th>\n",
       "      <th>Output</th>\n",
       "      <th>Notes</th>\n",
       "    </tr>\n",
       "  </thead>\n",
       "  <tbody>\n",
       "    <tr>\n",
       "      <th>0</th>\n",
       "      <td>lrs-run-1</td>\n",
       "      <td>0,42</td>\n",
       "      <td>FullSA-FullMLP-4L</td>\n",
       "      <td>GPTNeo</td>\n",
       "      <td>from scratch</td>\n",
       "      <td>random</td>\n",
       "      <td>25k</td>\n",
       "      <td>0.1</td>\n",
       "      <td>4</td>\n",
       "      <td>384</td>\n",
       "      <td>...</td>\n",
       "      <td>1</td>\n",
       "      <td>4</td>\n",
       "      <td>per_device_train_batch_size=4,\\r\\n    grad...</td>\n",
       "      <td>5996.0</td>\n",
       "      <td>3.275</td>\n",
       "      <td>0.000</td>\n",
       "      <td>2.84</td>\n",
       "      <td>36.3</td>\n",
       "      <td>TrainOutput(global_step=6188, training_loss=3....</td>\n",
       "      <td>Baseline. BTW, attention types are GPTNeo defa...</td>\n",
       "    </tr>\n",
       "    <tr>\n",
       "      <th>1</th>\n",
       "      <td>lrs-run-4</td>\n",
       "      <td>0,42</td>\n",
       "      <td>LgSA-LgMLP-4L</td>\n",
       "      <td>GPTNeo</td>\n",
       "      <td>from scratch</td>\n",
       "      <td>random</td>\n",
       "      <td>25k</td>\n",
       "      <td>0.1</td>\n",
       "      <td>4</td>\n",
       "      <td>384</td>\n",
       "      <td>...</td>\n",
       "      <td>1</td>\n",
       "      <td>4</td>\n",
       "      <td>per_device_train_batch_size=4,\\r\\n    grad...</td>\n",
       "      <td>6006.0</td>\n",
       "      <td>3.377</td>\n",
       "      <td>0.031</td>\n",
       "      <td>2.79</td>\n",
       "      <td>37.0</td>\n",
       "      <td>TrainOutput(global_step=6188, training_loss=3....</td>\n",
       "      <td>Re-running lrs-run-2 but with the correct math...</td>\n",
       "    </tr>\n",
       "    <tr>\n",
       "      <th>2</th>\n",
       "      <td>lrs-run-5</td>\n",
       "      <td>0,42</td>\n",
       "      <td>MedSA-FullMLP-4L</td>\n",
       "      <td>GPTNeo</td>\n",
       "      <td>from scratch</td>\n",
       "      <td>random</td>\n",
       "      <td>25k</td>\n",
       "      <td>0.1</td>\n",
       "      <td>4</td>\n",
       "      <td>384</td>\n",
       "      <td>...</td>\n",
       "      <td>1</td>\n",
       "      <td>4</td>\n",
       "      <td>per_device_train_batch_size=4,\\r\\n    grad...</td>\n",
       "      <td>5960.0</td>\n",
       "      <td>3.562</td>\n",
       "      <td>0.088</td>\n",
       "      <td>2.89</td>\n",
       "      <td>35.7</td>\n",
       "      <td>TrainOutput(global_step=6188, training_loss=3....</td>\n",
       "      <td>Moderate rank but on the SA only.\\r\\n\\r\\nPrett...</td>\n",
       "    </tr>\n",
       "    <tr>\n",
       "      <th>3</th>\n",
       "      <td>lrs-run-6</td>\n",
       "      <td>0,42</td>\n",
       "      <td>FullSA-MedMLP-4L</td>\n",
       "      <td>GPTNeo</td>\n",
       "      <td>from scratch</td>\n",
       "      <td>random</td>\n",
       "      <td>25k</td>\n",
       "      <td>0.1</td>\n",
       "      <td>4</td>\n",
       "      <td>384</td>\n",
       "      <td>...</td>\n",
       "      <td>1</td>\n",
       "      <td>4</td>\n",
       "      <td>per_device_train_batch_size=4,\\r\\n    grad...</td>\n",
       "      <td>5960.0</td>\n",
       "      <td>3.567</td>\n",
       "      <td>0.089</td>\n",
       "      <td>2.98</td>\n",
       "      <td>34.6</td>\n",
       "      <td>TrainOutput(global_step=6188, training_loss=4....</td>\n",
       "      <td>Moderate rank but on the MLP only.\\r\\n\\r\\nAlmo...</td>\n",
       "    </tr>\n",
       "    <tr>\n",
       "      <th>4</th>\n",
       "      <td>lrs-run-7</td>\n",
       "      <td>0,42</td>\n",
       "      <td>MedSA-MedMLP-4L</td>\n",
       "      <td>GPTNeo</td>\n",
       "      <td>from scratch</td>\n",
       "      <td>random</td>\n",
       "      <td>25k</td>\n",
       "      <td>0.1</td>\n",
       "      <td>4</td>\n",
       "      <td>384</td>\n",
       "      <td>...</td>\n",
       "      <td>1</td>\n",
       "      <td>4</td>\n",
       "      <td>per_device_train_batch_size=4,\\r\\n    grad...</td>\n",
       "      <td>5930.0</td>\n",
       "      <td>3.939</td>\n",
       "      <td>0.203</td>\n",
       "      <td>3.03</td>\n",
       "      <td>34.0</td>\n",
       "      <td>TrainOutput(global_step=6188, training_loss=4....</td>\n",
       "      <td>Moderate rank on both SA and MLP.\\r\\n\\r\\nI'm a...</td>\n",
       "    </tr>\n",
       "  </tbody>\n",
       "</table>\n",
       "<p>5 rows × 25 columns</p>\n",
       "</div>"
      ],
      "text/plain": [
       "    W&B Name Seeds              Label base model      Training    Init  \\\n",
       "0  lrs-run-1  0,42  FullSA-FullMLP-4L     GPTNeo  from scratch  random   \n",
       "1  lrs-run-4  0,42      LgSA-LgMLP-4L     GPTNeo  from scratch  random   \n",
       "2  lrs-run-5  0,42   MedSA-FullMLP-4L     GPTNeo  from scratch  random   \n",
       "3  lrs-run-6  0,42   FullSA-MedMLP-4L     GPTNeo  from scratch  random   \n",
       "4  lrs-run-7  0,42    MedSA-MedMLP-4L     GPTNeo  from scratch  random   \n",
       "\n",
       "  Total DS  Test split  num layers  hidden size (embedding size)  ...  \\\n",
       "0      25k         0.1           4                           384  ...   \n",
       "1      25k         0.1           4                           384  ...   \n",
       "2      25k         0.1           4                           384  ...   \n",
       "3      25k         0.1           4                           384  ...   \n",
       "4      25k         0.1           4                           384  ...   \n",
       "\n",
       "  Grad Accum Steps Effective Batch Size  \\\n",
       "0                1                    4   \n",
       "1                1                    4   \n",
       "2                1                    4   \n",
       "3                1                    4   \n",
       "4                1                    4   \n",
       "\n",
       "                                       Training args  VRAM max (MB)  \\\n",
       "0      per_device_train_batch_size=4,\\r\\n    grad...         5996.0   \n",
       "1      per_device_train_batch_size=4,\\r\\n    grad...         6006.0   \n",
       "2      per_device_train_batch_size=4,\\r\\n    grad...         5960.0   \n",
       "3      per_device_train_batch_size=4,\\r\\n    grad...         5960.0   \n",
       "4      per_device_train_batch_size=4,\\r\\n    grad...         5930.0   \n",
       "\n",
       "   eval loss @ 6k  eval loss delta from baseline  It / sec  \\\n",
       "0           3.275                          0.000      2.84   \n",
       "1           3.377                          0.031      2.79   \n",
       "2           3.562                          0.088      2.89   \n",
       "3           3.567                          0.089      2.98   \n",
       "4           3.939                          0.203      3.03   \n",
       "\n",
       "  Training time (min)                                             Output  \\\n",
       "0                36.3  TrainOutput(global_step=6188, training_loss=3....   \n",
       "1                37.0  TrainOutput(global_step=6188, training_loss=3....   \n",
       "2                35.7  TrainOutput(global_step=6188, training_loss=3....   \n",
       "3                34.6  TrainOutput(global_step=6188, training_loss=4....   \n",
       "4                34.0  TrainOutput(global_step=6188, training_loss=4....   \n",
       "\n",
       "                                               Notes  \n",
       "0  Baseline. BTW, attention types are GPTNeo defa...  \n",
       "1  Re-running lrs-run-2 but with the correct math...  \n",
       "2  Moderate rank but on the SA only.\\r\\n\\r\\nPrett...  \n",
       "3  Moderate rank but on the MLP only.\\r\\n\\r\\nAlmo...  \n",
       "4  Moderate rank on both SA and MLP.\\r\\n\\r\\nI'm a...  \n",
       "\n",
       "[5 rows x 25 columns]"
      ]
     },
     "execution_count": 13,
     "metadata": {},
     "output_type": "execute_result"
    }
   ],
   "source": [
    "df[:5]"
   ]
  },
  {
   "cell_type": "code",
   "execution_count": 14,
   "id": "f68b481a-beac-4ad8-91ab-35ef0ed21221",
   "metadata": {},
   "outputs": [],
   "source": [
    "# Ensure that columns we're going to plot are are numeric\n",
    "\n",
    "df['Training time (min)'] = pd.to_numeric(df['Training time (min)'], errors='coerce')\n",
    "df['eval loss @ 6k'] = pd.to_numeric(df['eval loss @ 6k'], errors='coerce')\n",
    "df['Trainable params'] = pd.to_numeric(df['Trainable params'].str.replace(',', ''))"
   ]
  },
  {
   "cell_type": "code",
   "execution_count": 15,
   "id": "f934b244-2086-4ba4-bfeb-2acca7d59cf2",
   "metadata": {},
   "outputs": [
    {
     "data": {
      "image/png": "[encoded data removed]",
      "text/plain": [
       "<Figure size 1000x600 with 1 Axes>"
      ]
     },
     "metadata": {},
     "output_type": "display_data"
    }
   ],
   "source": [
    "# Plot eval loss vs trainable params\n",
    "\n",
    "plotlog = False\n",
    "plt.figure(figsize=(10, 6))\n",
    "ax = plt.gca() # Get the current Axes instance (for use with log scale)\n",
    "if plotlog:\n",
    "    ax.set_xscale('log') # Set the x-axis to a logarithmic scale\n",
    "\n",
    "for i, txt in enumerate(df['Label']):\n",
    "    if txt.startswith(\"Med\"):\n",
    "        color = 'purple'\n",
    "        xytext=(28,2)\n",
    "    elif txt.startswith(\"Full\"):\n",
    "        color = 'green'\n",
    "        xytext=(28,15)\n",
    "        if txt.startswith(\"FullSA-Med\"):\n",
    "            xytext=(0,35)\n",
    "        if txt.startswith(\"FullSA-Inc\"):\n",
    "            xytext=(28,26)\n",
    "        if txt.startswith(\"FullSA-Dec\"):\n",
    "            xytext=(28,15)\n",
    "    elif txt.startswith(\"Inc\"):\n",
    "        color = 'red'\n",
    "        xytext=(28,2)\n",
    "    elif txt.startswith(\"Dec\"):\n",
    "        color = 'blue'\n",
    "        xytext=(28,2)\n",
    "    else:\n",
    "        color = 'black'\n",
    "        xytext=(28,2)\n",
    "\n",
    "    plt.scatter(df['Trainable params'].iloc[i], df['eval loss @ 6k'].iloc[i], color=color)\n",
    "    plt.annotate(txt, (df['Trainable params'].iloc[i], df['eval loss @ 6k'].iloc[i]), \n",
    "             xytext=xytext, textcoords='offset points',\n",
    "             arrowprops=dict(facecolor='black', width=0.1, headlength=1.0, headwidth=0.0, shrink=0.))\n",
    "\n",
    "plt.title('Evaluation Loss vs Trainable params')\n",
    "plt.xlabel('Trainable params')\n",
    "plt.ylabel('Evaluation Loss')\n",
    "plt.grid(True)\n",
    "#ax.set_xlim([0, None])\n",
    "#ax.set_ylim([0, None])\n",
    "plt.show()"
   ]
  },
  {
   "cell_type": "code",
   "execution_count": 16,
   "id": "fefc86ff-97ba-4bf5-bdda-1a1893e0f405",
   "metadata": {},
   "outputs": [
    {
     "data": {
      "image/png": "[encoded data removed]",
      "text/plain": [
       "<Figure size 1000x600 with 1 Axes>"
      ]
     },
     "metadata": {},
     "output_type": "display_data"
    }
   ],
   "source": [
    "# Plot eval loss vs training time\n",
    "\n",
    "plotlog = False\n",
    "plt.figure(figsize=(10, 6))\n",
    "ax = plt.gca() # Get the current Axes instance (for use with log scale)\n",
    "if plotlog:\n",
    "    ax.set_xscale('log') # Set the x-axis to a logarithmic scale\n",
    "\n",
    "for i, txt in enumerate(df['Label']):\n",
    "    if txt.startswith(\"Med\"):\n",
    "        color = 'purple'\n",
    "        xytext=(28,2)\n",
    "    elif txt.startswith(\"Full\"):\n",
    "        color = 'green'\n",
    "        xytext=(28,26)\n",
    "        if txt.startswith(\"FullSA-Med\"):\n",
    "            xytext=(0,35)\n",
    "        if txt.startswith(\"FullSA-Inc\"):\n",
    "            xytext=(28,26)\n",
    "        if txt.startswith(\"FullSA-Dec\"):\n",
    "            xytext=(28,15)\n",
    "    elif txt.startswith(\"Inc\"):\n",
    "        color = 'red'\n",
    "        xytext=(28,2)\n",
    "    elif txt.startswith(\"Dec\"):\n",
    "        color = 'blue'\n",
    "        xytext=(28,2)\n",
    "    else:\n",
    "        color = 'black'\n",
    "        xytext=(28,2)\n",
    "\n",
    "    plt.scatter(df['Training time (min)'].iloc[i], df['eval loss @ 6k'].iloc[i], color=color)\n",
    "    plt.annotate(txt, (df['Training time (min)'].iloc[i], df['eval loss @ 6k'].iloc[i]), \n",
    "             xytext=xytext, textcoords='offset points',\n",
    "             arrowprops=dict(facecolor='black', width=0.1, headlength=1.0, headwidth=0.0, shrink=0.))\n",
    "\n",
    "plt.title('Evaluation Loss vs Training Time')\n",
    "plt.xlabel('Training Time (min)')\n",
    "plt.ylabel('Evaluation Loss')\n",
    "plt.grid(True)\n",
    "#ax.set_ylim([0, None])\n",
    "plt.show()"
   ]
  },
  {
   "cell_type": "code",
   "execution_count": null,
   "id": "4a3b462f-7d75-4c16-a48c-5b01e50b5a7a",
   "metadata": {},
   "outputs": [],
   "source": []
  },
  {
   "cell_type": "markdown",
   "id": "9c431112-2db8-4521-8f34-fe0d2cb77bbf",
   "metadata": {},
   "source": [
    "## Restore from checkpoint\n",
    "Note: requires restarting the kernel."
   ]
  },
  {
   "cell_type": "code",
   "execution_count": null,
   "id": "0eaee919-a20a-42df-acf3-ec8f9c275f6e",
   "metadata": {},
   "outputs": [],
   "source": [
    "set_seed(0)\n",
    "\n",
    "from transformers import GPTNeoForCausalLM\n",
    "model = GPTNeoForCausalLM.from_pretrained(keep_dir + \"/\" + \"checkpoint-123500\", device_map=\"auto\")\n",
    "\n",
    "tokenizer = AutoTokenizer.from_pretrained(\"EleutherAI/gpt-neo-125M\")\n",
    "tokenizer.pad_token = tokenizer.eos_token\n",
    "\n",
    "device = model.device\n",
    "print(device)"
   ]
  },
  {
   "cell_type": "markdown",
   "id": "e626a549-2e58-4073-97d5-10aa70420733",
   "metadata": {},
   "source": [
    "## Generation"
   ]
  },
  {
   "cell_type": "code",
   "execution_count": null,
   "id": "5a501a73-46d7-440e-83f6-c009e235b2a7",
   "metadata": {},
   "outputs": [],
   "source": [
    "prompt = \"Once upon a time there was\"\n",
    "input_ids = tokenizer.encode(prompt, return_tensors=\"pt\").to(device)\n",
    "output = model.generate(input_ids, max_length = 1000, num_beams=1, do_sample=True, temperature=0.9) # do_sample=True gives non-greedy sampling\n",
    "output_text = tokenizer.decode(output[0], skip_special_tokens=True)\n",
    "print(output_text)"
   ]
  },
  {
   "cell_type": "code",
   "execution_count": null,
   "id": "3dc37f27-9de1-4328-8012-2ad11e5f58e9",
   "metadata": {},
   "outputs": [],
   "source": []
  }
 ],
 "metadata": {
  "kernelspec": {
   "display_name": "xf",
   "language": "python",
   "name": "xf"
  },
  "language_info": {
   "codemirror_mode": {
    "name": "ipython",
    "version": 3
   },
   "file_extension": ".py",
   "mimetype": "text/x-python",
   "name": "python",
   "nbconvert_exporter": "python",
   "pygments_lexer": "ipython3",
   "version": "3.9.17"
  }
 },
 "nbformat": 4,
 "nbformat_minor": 5
}
